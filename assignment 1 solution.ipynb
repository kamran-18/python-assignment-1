{
 "cells": [
  {
   "cell_type": "raw",
   "id": "ed1f0197-c93d-4b01-ad7c-fab2412e08dc",
   "metadata": {},
   "source": [
    "explain the key featu$es of Python that make it a popular choice for programming\n"
   ]
  },
  {
   "cell_type": "code",
   "execution_count": 2,
   "id": "e170d5ef-db75-4bbc-b27a-6deb5dc2b25c",
   "metadata": {},
   "outputs": [
    {
     "data": {
      "text/plain": [
       "' python is used widely because of the following :-\\n1: widely used in the industyry\\n2: widely used in the data industry which is booming now in the market\\n3: python has a lot of libraries\\n4: used in automation , image processing , data bases\\n5: ease of learning\\n6: python has huge active community'"
      ]
     },
     "execution_count": 2,
     "metadata": {},
     "output_type": "execute_result"
    }
   ],
   "source": [
    "''' python is used widely because of the following :-\n",
    "1: widely used in the industyry\n",
    "2: widely used in the data industry which is booming now in the market\n",
    "3: python has a lot of libraries\n",
    "4: used in automation , image processing , data bases\n",
    "5: ease of learning\n",
    "6: python has huge active community'''"
   ]
  },
  {
   "cell_type": "raw",
   "id": "fe71b2c3-e767-4aa3-bb27-8f9f123990ae",
   "metadata": {},
   "source": [
    "0 Describe the role of predefined keywords in Python and provide examples of how they are used in a\n",
    "programm\n"
   ]
  },
  {
   "cell_type": "code",
   "execution_count": 3,
   "id": "630a305a-7671-4bd3-b3ad-3a0c2c60c6b6",
   "metadata": {},
   "outputs": [
    {
     "name": "stdout",
     "output_type": "stream",
     "text": [
      "hello world\n",
      "12\n"
     ]
    },
    {
     "data": {
      "text/plain": [
       "int"
      ]
     },
     "execution_count": 3,
     "metadata": {},
     "output_type": "execute_result"
    }
   ],
   "source": [
    "''' solution\n",
    "key words are predifined words that holds a special meaning and have specific purpose in python\n",
    "for example PRINT keyword used to print something'''\n",
    "#print keyword\n",
    "print('hello world')\n",
    "#type()\n",
    "a=12\n",
    "print(a)\n",
    "type(a)"
   ]
  },
  {
   "cell_type": "raw",
   "id": "2c3e3de2-d733-4f54-abfd-ee8e6de158a9",
   "metadata": {},
   "source": [
    "# Compare and contrast mutable and immutable objects in Python with examples"
   ]
  },
  {
   "cell_type": "code",
   "execution_count": 5,
   "id": "c60a2807-d595-43d4-b95f-bb27c0fb5903",
   "metadata": {},
   "outputs": [],
   "source": [
    "''' mutable means if we can edit something  for example'''\n",
    "a=[1,2,3,4,'ajay']\n",
    "a[4]='bijay'"
   ]
  },
  {
   "cell_type": "code",
   "execution_count": 6,
   "id": "b1ac4749-9336-4380-8a12-7bb4bd897f76",
   "metadata": {},
   "outputs": [
    {
     "data": {
      "text/plain": [
       "[1, 2, 3, 4, 'bijay']"
      ]
     },
     "execution_count": 6,
     "metadata": {},
     "output_type": "execute_result"
    }
   ],
   "source": [
    "a"
   ]
  },
  {
   "cell_type": "code",
   "execution_count": 7,
   "id": "1bf61bfa-b40b-4203-8067-2cc940ce0c75",
   "metadata": {},
   "outputs": [
    {
     "data": {
      "text/plain": [
       "'objects/ container whose state or value can be changed after they are created called as mutable objects '"
      ]
     },
     "execution_count": 7,
     "metadata": {},
     "output_type": "execute_result"
    }
   ],
   "source": [
    "'''objects/ container whose state or value can be changed after they are created called as mutable objects '''\n"
   ]
  },
  {
   "cell_type": "code",
   "execution_count": 8,
   "id": "17a3a490-0719-47cf-8b68-432aaee31e02",
   "metadata": {},
   "outputs": [
    {
     "ename": "TypeError",
     "evalue": "'str' object does not support item assignment",
     "output_type": "error",
     "traceback": [
      "\u001b[0;31m---------------------------------------------------------------------------\u001b[0m",
      "\u001b[0;31mTypeError\u001b[0m                                 Traceback (most recent call last)",
      "Cell \u001b[0;32mIn[8], line 3\u001b[0m\n\u001b[1;32m      1\u001b[0m \u001b[38;5;124;03m'''immutable means that we cant edit something for example'''\u001b[39;00m\n\u001b[1;32m      2\u001b[0m a\u001b[38;5;241m=\u001b[39m\u001b[38;5;124m'\u001b[39m\u001b[38;5;124mkamran\u001b[39m\u001b[38;5;124m'\u001b[39m\n\u001b[0;32m----> 3\u001b[0m \u001b[43ma\u001b[49m\u001b[43m[\u001b[49m\u001b[38;5;241;43m0\u001b[39;49m\u001b[43m]\u001b[49m\u001b[38;5;241m=\u001b[39m\u001b[38;5;124m'\u001b[39m\u001b[38;5;124mumer\u001b[39m\u001b[38;5;124m'\u001b[39m\n",
      "\u001b[0;31mTypeError\u001b[0m: 'str' object does not support item assignment"
     ]
    }
   ],
   "source": [
    "'''immutable means that we cant edit something for example'''\n",
    "a='kamran'\n",
    "a[0]='umer'"
   ]
  },
  {
   "cell_type": "raw",
   "id": "105e9abc-1e2f-4ec9-992c-953fd8dd42ef",
   "metadata": {},
   "source": [
    "Discuss the different types of operators in Python and provide examples of how they are used?"
   ]
  },
  {
   "cell_type": "code",
   "execution_count": 16,
   "id": "2989da14-42bc-4920-a198-f0e10f4ac20c",
   "metadata": {},
   "outputs": [
    {
     "data": {
      "text/plain": [
       "7"
      ]
     },
     "execution_count": 16,
     "metadata": {},
     "output_type": "execute_result"
    }
   ],
   "source": [
    "'''operators are symboles thatare used to perform specific operations on variables'''\n",
    "#airthematic operators\n",
    "a=3\n",
    "b=4\n",
    "a+b #----add\n",
    "\n"
   ]
  },
  {
   "cell_type": "code",
   "execution_count": 10,
   "id": "2824f308-5a20-42c7-9526-6bb702b29a81",
   "metadata": {},
   "outputs": [
    {
     "data": {
      "text/plain": [
       "-1"
      ]
     },
     "execution_count": 10,
     "metadata": {},
     "output_type": "execute_result"
    }
   ],
   "source": [
    "a-b #---subtract"
   ]
  },
  {
   "cell_type": "code",
   "execution_count": 11,
   "id": "c3dfd6a1-0e94-46b7-8afc-15c1eca82830",
   "metadata": {},
   "outputs": [
    {
     "data": {
      "text/plain": [
       "12"
      ]
     },
     "execution_count": 11,
     "metadata": {},
     "output_type": "execute_result"
    }
   ],
   "source": [
    "a*b #---multiplication"
   ]
  },
  {
   "cell_type": "code",
   "execution_count": 12,
   "id": "ce765f17-e53b-483c-856b-b28b6abdd817",
   "metadata": {},
   "outputs": [
    {
     "data": {
      "text/plain": [
       "0.75"
      ]
     },
     "execution_count": 12,
     "metadata": {},
     "output_type": "execute_result"
    }
   ],
   "source": [
    "a/b #---division"
   ]
  },
  {
   "cell_type": "code",
   "execution_count": 15,
   "id": "6d1a9f99-b765-47d4-87a0-0b7945ee68aa",
   "metadata": {},
   "outputs": [
    {
     "data": {
      "text/plain": [
       "3"
      ]
     },
     "execution_count": 15,
     "metadata": {},
     "output_type": "execute_result"
    }
   ],
   "source": [
    "a%b #--- gives remainder\n"
   ]
  },
  {
   "cell_type": "code",
   "execution_count": 14,
   "id": "5374f1c3-b4f9-4084-8a0b-b32b2c1ab27e",
   "metadata": {},
   "outputs": [
    {
     "data": {
      "text/plain": [
       "0"
      ]
     },
     "execution_count": 14,
     "metadata": {},
     "output_type": "execute_result"
    }
   ],
   "source": [
    "a//b #--- nearest integer value"
   ]
  },
  {
   "cell_type": "code",
   "execution_count": 17,
   "id": "5e04644c-920f-4681-b437-b40735b20036",
   "metadata": {},
   "outputs": [
    {
     "data": {
      "text/plain": [
       "81"
      ]
     },
     "execution_count": 17,
     "metadata": {},
     "output_type": "execute_result"
    }
   ],
   "source": [
    "a**b #----power"
   ]
  },
  {
   "cell_type": "code",
   "execution_count": 18,
   "id": "9d1fc684-4ff5-462c-8fc6-7b8bd66de752",
   "metadata": {},
   "outputs": [],
   "source": [
    "# comparison operators------- compares two values and return boolean"
   ]
  },
  {
   "cell_type": "code",
   "execution_count": 19,
   "id": "c43bac36-68c9-4a18-8d38-4e64a2127202",
   "metadata": {},
   "outputs": [
    {
     "data": {
      "text/plain": [
       "True"
      ]
     },
     "execution_count": 19,
     "metadata": {},
     "output_type": "execute_result"
    }
   ],
   "source": [
    "2==2"
   ]
  },
  {
   "cell_type": "code",
   "execution_count": 20,
   "id": "8ecf8652-00be-4756-9aee-d0cb4a149b2c",
   "metadata": {},
   "outputs": [
    {
     "data": {
      "text/plain": [
       "False"
      ]
     },
     "execution_count": 20,
     "metadata": {},
     "output_type": "execute_result"
    }
   ],
   "source": [
    "2!=2"
   ]
  },
  {
   "cell_type": "code",
   "execution_count": 21,
   "id": "6a0cdd0a-c38b-475a-82a7-a25dfa095b27",
   "metadata": {},
   "outputs": [
    {
     "data": {
      "text/plain": [
       "False"
      ]
     },
     "execution_count": 21,
     "metadata": {},
     "output_type": "execute_result"
    }
   ],
   "source": [
    "3<=2"
   ]
  },
  {
   "cell_type": "code",
   "execution_count": 22,
   "id": "029fbab1-c115-420e-987a-a4e26734f4ed",
   "metadata": {},
   "outputs": [
    {
     "data": {
      "text/plain": [
       "True"
      ]
     },
     "execution_count": 22,
     "metadata": {},
     "output_type": "execute_result"
    }
   ],
   "source": [
    "2>=1"
   ]
  },
  {
   "cell_type": "code",
   "execution_count": 23,
   "id": "55d68ae7-ba6c-4eed-9ac1-c62a79e65069",
   "metadata": {},
   "outputs": [
    {
     "data": {
      "text/plain": [
       "True"
      ]
     },
     "execution_count": 23,
     "metadata": {},
     "output_type": "execute_result"
    }
   ],
   "source": [
    "#logical operator used in logic building\n",
    "\n",
    "# And operator\n",
    "''' it returns true if both the values are true otherwise returns false if any one or both the values are false'''\n",
    "# for example\n",
    "True and True"
   ]
  },
  {
   "cell_type": "code",
   "execution_count": 24,
   "id": "0d3032d6-cff2-440d-b2cb-4f31a6086613",
   "metadata": {},
   "outputs": [
    {
     "data": {
      "text/plain": [
       "False"
      ]
     },
     "execution_count": 24,
     "metadata": {},
     "output_type": "execute_result"
    }
   ],
   "source": [
    "True and False"
   ]
  },
  {
   "cell_type": "code",
   "execution_count": 25,
   "id": "13480cc2-2f0a-402d-bc3c-bae4a842b106",
   "metadata": {},
   "outputs": [
    {
     "data": {
      "text/plain": [
       "False"
      ]
     },
     "execution_count": 25,
     "metadata": {},
     "output_type": "execute_result"
    }
   ],
   "source": [
    "False and False"
   ]
  },
  {
   "cell_type": "code",
   "execution_count": 26,
   "id": "2c936dc9-030d-42c6-98b9-eb80153b18ef",
   "metadata": {},
   "outputs": [
    {
     "data": {
      "text/plain": [
       "False"
      ]
     },
     "execution_count": 26,
     "metadata": {},
     "output_type": "execute_result"
    }
   ],
   "source": [
    "False and True"
   ]
  },
  {
   "cell_type": "code",
   "execution_count": 27,
   "id": "aacc369b-7aaa-428c-abe8-8c83e1d21f3c",
   "metadata": {},
   "outputs": [
    {
     "data": {
      "text/plain": [
       "True"
      ]
     },
     "execution_count": 27,
     "metadata": {},
     "output_type": "execute_result"
    }
   ],
   "source": [
    "# or operator\n",
    "''' it returns the flase value only if both the values are flase otherwise if any one of the value is truye or both the \n",
    "values are true it returns true'''\n",
    "#for example\n",
    "True or True"
   ]
  },
  {
   "cell_type": "code",
   "execution_count": 28,
   "id": "39b9d7e0-9a86-4b27-baf4-4fa0c3f2ab5b",
   "metadata": {},
   "outputs": [
    {
     "data": {
      "text/plain": [
       "True"
      ]
     },
     "execution_count": 28,
     "metadata": {},
     "output_type": "execute_result"
    }
   ],
   "source": [
    "True or False"
   ]
  },
  {
   "cell_type": "code",
   "execution_count": 29,
   "id": "21a3ca03-b1d0-474c-a0e9-b601f36e7b7a",
   "metadata": {},
   "outputs": [
    {
     "data": {
      "text/plain": [
       "True"
      ]
     },
     "execution_count": 29,
     "metadata": {},
     "output_type": "execute_result"
    }
   ],
   "source": [
    "False or True"
   ]
  },
  {
   "cell_type": "code",
   "execution_count": 30,
   "id": "3b4f5d9c-6db2-4473-879c-add9a0b1cc1f",
   "metadata": {},
   "outputs": [
    {
     "data": {
      "text/plain": [
       "False"
      ]
     },
     "execution_count": 30,
     "metadata": {},
     "output_type": "execute_result"
    }
   ],
   "source": [
    "False or False"
   ]
  },
  {
   "cell_type": "code",
   "execution_count": 31,
   "id": "adaec668-a8f6-4729-be9b-91720b3d85eb",
   "metadata": {},
   "outputs": [
    {
     "data": {
      "text/plain": [
       "False"
      ]
     },
     "execution_count": 31,
     "metadata": {},
     "output_type": "execute_result"
    }
   ],
   "source": [
    "# not operrator\n",
    "'''it gives the value in opposite'''\n",
    "\n",
    "#for example\n",
    "not True"
   ]
  },
  {
   "cell_type": "code",
   "execution_count": 32,
   "id": "3265f055-f3cb-4509-bfe9-c543705e0e6a",
   "metadata": {},
   "outputs": [
    {
     "data": {
      "text/plain": [
       "True"
      ]
     },
     "execution_count": 32,
     "metadata": {},
     "output_type": "execute_result"
    }
   ],
   "source": [
    "not False"
   ]
  },
  {
   "cell_type": "code",
   "execution_count": 33,
   "id": "2753148b-a268-47b6-8a51-a041ad6909b8",
   "metadata": {},
   "outputs": [],
   "source": [
    "# assignment operator  --- used to assign values\\\n",
    "\n",
    "a=10"
   ]
  },
  {
   "cell_type": "code",
   "execution_count": 34,
   "id": "8f158dd3-945d-414b-9240-05791a1163e4",
   "metadata": {},
   "outputs": [
    {
     "data": {
      "text/plain": [
       "True"
      ]
     },
     "execution_count": 34,
     "metadata": {},
     "output_type": "execute_result"
    }
   ],
   "source": [
    "#membership operator\n",
    "a='pwskills'\n",
    "'p' in a"
   ]
  },
  {
   "cell_type": "code",
   "execution_count": 35,
   "id": "6b9b2e9d-e92f-40e0-ba56-644e32fbd02c",
   "metadata": {},
   "outputs": [
    {
     "data": {
      "text/plain": [
       "False"
      ]
     },
     "execution_count": 35,
     "metadata": {},
     "output_type": "execute_result"
    }
   ],
   "source": [
    "'p' not in a"
   ]
  },
  {
   "cell_type": "code",
   "execution_count": 36,
   "id": "8df226e7-aebc-417d-8ed5-30a6a79d5cf7",
   "metadata": {},
   "outputs": [
    {
     "data": {
      "text/plain": [
       "False"
      ]
     },
     "execution_count": 36,
     "metadata": {},
     "output_type": "execute_result"
    }
   ],
   "source": [
    "# identity operators---- compares the location of two variables\n",
    "\n",
    "a=2\n",
    "b=3\n",
    "a is b"
   ]
  },
  {
   "cell_type": "code",
   "execution_count": 37,
   "id": "3c2aa600-7180-4fef-8d65-2f5ace3a9906",
   "metadata": {},
   "outputs": [
    {
     "data": {
      "text/plain": [
       "True"
      ]
     },
     "execution_count": 37,
     "metadata": {},
     "output_type": "execute_result"
    }
   ],
   "source": [
    "a=1\n",
    "b=1\n",
    "a is b"
   ]
  },
  {
   "cell_type": "code",
   "execution_count": 38,
   "id": "851d5a98-d030-446c-a921-2ca87df68fe0",
   "metadata": {},
   "outputs": [
    {
     "data": {
      "text/plain": [
       "10"
      ]
     },
     "execution_count": 38,
     "metadata": {},
     "output_type": "execute_result"
    }
   ],
   "source": [
    "#bitwise operator --  it operates at bitlevel\n",
    "#1 bitwise and (&)\n",
    "10 &10"
   ]
  },
  {
   "cell_type": "code",
   "execution_count": 39,
   "id": "61cd39d0-5e66-4ca1-84b5-cb17aa4b8882",
   "metadata": {},
   "outputs": [
    {
     "data": {
      "text/plain": [
       "2"
      ]
     },
     "execution_count": 39,
     "metadata": {},
     "output_type": "execute_result"
    }
   ],
   "source": [
    "10 &2"
   ]
  },
  {
   "cell_type": "code",
   "execution_count": 40,
   "id": "a16a1629-3c15-401e-81ec-c67c05efcf52",
   "metadata": {},
   "outputs": [
    {
     "data": {
      "text/plain": [
       "'0b1010'"
      ]
     },
     "execution_count": 40,
     "metadata": {},
     "output_type": "execute_result"
    }
   ],
   "source": [
    "bin(10)"
   ]
  },
  {
   "cell_type": "code",
   "execution_count": 41,
   "id": "bfd17ba4-de6f-4b2e-8f83-ea28e73e5c10",
   "metadata": {},
   "outputs": [
    {
     "data": {
      "text/plain": [
       "'0b10'"
      ]
     },
     "execution_count": 41,
     "metadata": {},
     "output_type": "execute_result"
    }
   ],
   "source": [
    "bin(2)"
   ]
  },
  {
   "cell_type": "code",
   "execution_count": 42,
   "id": "d1e7c995-ab3e-4753-8a01-61ce1e3c1cc2",
   "metadata": {},
   "outputs": [
    {
     "data": {
      "text/plain": [
       "10"
      ]
     },
     "execution_count": 42,
     "metadata": {},
     "output_type": "execute_result"
    }
   ],
   "source": [
    "#2 bitwise or(|)\n",
    "\n",
    "10 | 10"
   ]
  },
  {
   "cell_type": "code",
   "execution_count": 43,
   "id": "a656d8d6-e841-4fcf-b3c9-5ae4b43f07b8",
   "metadata": {},
   "outputs": [
    {
     "data": {
      "text/plain": [
       "7"
      ]
     },
     "execution_count": 43,
     "metadata": {},
     "output_type": "execute_result"
    }
   ],
   "source": [
    "3 |5"
   ]
  },
  {
   "cell_type": "code",
   "execution_count": 44,
   "id": "0ce37c89-74e1-4627-9012-73e74e8a3ad7",
   "metadata": {},
   "outputs": [
    {
     "data": {
      "text/plain": [
       "-4"
      ]
     },
     "execution_count": 44,
     "metadata": {},
     "output_type": "execute_result"
    }
   ],
   "source": [
    "# negation(~)\n",
    "~3"
   ]
  },
  {
   "cell_type": "code",
   "execution_count": 45,
   "id": "c0de866e-6687-43ce-91f6-fdc7d5e144aa",
   "metadata": {},
   "outputs": [
    {
     "data": {
      "text/plain": [
       "6"
      ]
     },
     "execution_count": 45,
     "metadata": {},
     "output_type": "execute_result"
    }
   ],
   "source": [
    "#bitwise xor operator(^)--- returns 1 when exactly 1 operand is 1\n",
    "5^3"
   ]
  },
  {
   "cell_type": "code",
   "execution_count": 46,
   "id": "03cf60b0-1b78-48c8-8dcf-35f5f1468842",
   "metadata": {},
   "outputs": [],
   "source": [
    "# bitwisw and and bitwise or operatoes sma einternally as the and and or operator"
   ]
  },
  {
   "cell_type": "code",
   "execution_count": 47,
   "id": "2014bc55-1b5d-472b-90c2-896f1a3e485b",
   "metadata": {},
   "outputs": [
    {
     "data": {
      "text/plain": [
       "280"
      ]
     },
     "execution_count": 47,
     "metadata": {},
     "output_type": "execute_result"
    }
   ],
   "source": [
    "# SHIFT OPERATOR\n",
    "#leftshift--- shi9ft the bits to the left by specified no. of positions, filling 0's to the right\n",
    "35<<3"
   ]
  },
  {
   "cell_type": "code",
   "execution_count": 48,
   "id": "076179b2-01ab-4ed2-9072-52676160f523",
   "metadata": {},
   "outputs": [
    {
     "data": {
      "text/plain": [
       "35"
      ]
     },
     "execution_count": 48,
     "metadata": {},
     "output_type": "execute_result"
    }
   ],
   "source": [
    "#right shift-- shifts the bins to the right by a specified no. of posotions and remove the no. of elements in binarey\n",
    "280>>3"
   ]
  },
  {
   "cell_type": "raw",
   "id": "f5575fe5-7ce6-4565-8fcc-b61fbdceb9bb",
   "metadata": {},
   "source": [
    "explain the concept of type casting in Python with examples"
   ]
  },
  {
   "cell_type": "code",
   "execution_count": 50,
   "id": "c6244660-ffa4-4687-8320-7ee7e2e6b7c1",
   "metadata": {},
   "outputs": [
    {
     "ename": "TypeError",
     "evalue": "can only concatenate str (not \"int\") to str",
     "output_type": "error",
     "traceback": [
      "\u001b[0;31m---------------------------------------------------------------------------\u001b[0m",
      "\u001b[0;31mTypeError\u001b[0m                                 Traceback (most recent call last)",
      "Cell \u001b[0;32mIn[50], line 4\u001b[0m\n\u001b[1;32m      2\u001b[0m a\u001b[38;5;241m=\u001b[39m\u001b[38;5;124m'\u001b[39m\u001b[38;5;124m2\u001b[39m\u001b[38;5;124m'\u001b[39m\n\u001b[1;32m      3\u001b[0m b\u001b[38;5;241m=\u001b[39m\u001b[38;5;241m3\u001b[39m\n\u001b[0;32m----> 4\u001b[0m \u001b[43ma\u001b[49m\u001b[38;5;241;43m+\u001b[39;49m\u001b[43mb\u001b[49m \u001b[38;5;66;03m#--- it wil;l through an error because one data type is str and other is int\u001b[39;00m\n\u001b[1;32m      5\u001b[0m \u001b[38;5;66;03m# so in order to make computation error free we use the concept of typecasting\u001b[39;00m\n",
      "\u001b[0;31mTypeError\u001b[0m: can only concatenate str (not \"int\") to str"
     ]
    }
   ],
   "source": [
    "'''process of changing the data types of an object'''\n",
    "a='2'\n",
    "b=3\n",
    "a+b #--- it wil;l through an error because one data type is str and other is int\n",
    "# so in order to make computation error free we use the concept of typecasting"
   ]
  },
  {
   "cell_type": "code",
   "execution_count": 51,
   "id": "514a78fb-4c4c-407b-ba4d-92eaab512065",
   "metadata": {},
   "outputs": [
    {
     "data": {
      "text/plain": [
       "5"
      ]
     },
     "execution_count": 51,
     "metadata": {},
     "output_type": "execute_result"
    }
   ],
   "source": [
    "a='2'\n",
    "b=3\n",
    "a=int(a)\n",
    "a+b"
   ]
  },
  {
   "cell_type": "code",
   "execution_count": 52,
   "id": "76ecc32b-2084-4989-83c2-f8d16b962027",
   "metadata": {},
   "outputs": [],
   "source": [
    "#2 float to integer\n",
    "a=3.4\n",
    "a = str(a)"
   ]
  },
  {
   "cell_type": "code",
   "execution_count": 53,
   "id": "72892efe-4624-472b-abff-fca83b8b66b7",
   "metadata": {},
   "outputs": [
    {
     "data": {
      "text/plain": [
       "'3.4'"
      ]
     },
     "execution_count": 53,
     "metadata": {},
     "output_type": "execute_result"
    }
   ],
   "source": [
    "a"
   ]
  },
  {
   "cell_type": "code",
   "execution_count": 54,
   "id": "ab194e7d-0956-4708-b46d-cbb712725244",
   "metadata": {},
   "outputs": [
    {
     "data": {
      "text/plain": [
       "str"
      ]
     },
     "execution_count": 54,
     "metadata": {},
     "output_type": "execute_result"
    }
   ],
   "source": [
    "type(a)"
   ]
  },
  {
   "cell_type": "code",
   "execution_count": 55,
   "id": "06dfdc32-a503-49a6-beca-4321f49efa3f",
   "metadata": {},
   "outputs": [
    {
     "data": {
      "text/plain": [
       "int"
      ]
     },
     "execution_count": 55,
     "metadata": {},
     "output_type": "execute_result"
    }
   ],
   "source": [
    "#int to float\n",
    "a= 3\n",
    "type(a)"
   ]
  },
  {
   "cell_type": "code",
   "execution_count": 56,
   "id": "67d83dec-bd7a-45f0-8fa7-23a8aa0be9bc",
   "metadata": {},
   "outputs": [
    {
     "data": {
      "text/plain": [
       "float"
      ]
     },
     "execution_count": 56,
     "metadata": {},
     "output_type": "execute_result"
    }
   ],
   "source": [
    "a= float(a)\n",
    "type(a)"
   ]
  },
  {
   "cell_type": "code",
   "execution_count": 57,
   "id": "f3efed0b-e946-405c-bf6d-4c5b415d3208",
   "metadata": {},
   "outputs": [
    {
     "data": {
      "text/plain": [
       "str"
      ]
     },
     "execution_count": 57,
     "metadata": {},
     "output_type": "execute_result"
    }
   ],
   "source": [
    "# satring to float\n",
    "a='2.4'\n",
    "type(a)\n",
    "a=str(a)\n",
    "type(a)"
   ]
  },
  {
   "cell_type": "code",
   "execution_count": 58,
   "id": "6e454fa9-48e5-4af1-b242-0fc9fd4bc05e",
   "metadata": {},
   "outputs": [
    {
     "data": {
      "text/plain": [
       "int"
      ]
     },
     "execution_count": 58,
     "metadata": {},
     "output_type": "execute_result"
    }
   ],
   "source": [
    "#type casting is of two types\n",
    "#1 implicit it means pythgon understands the datatypes\n",
    "a=5\n",
    "type(a)\n"
   ]
  },
  {
   "cell_type": "code",
   "execution_count": 59,
   "id": "b51d37bb-7384-4f87-bd11-846c4d0e4899",
   "metadata": {},
   "outputs": [
    {
     "data": {
      "text/plain": [
       "5"
      ]
     },
     "execution_count": 59,
     "metadata": {},
     "output_type": "execute_result"
    }
   ],
   "source": [
    "2+3"
   ]
  },
  {
   "cell_type": "code",
   "execution_count": 60,
   "id": "db65df17-1710-4698-9c69-bc3069220d5d",
   "metadata": {},
   "outputs": [
    {
     "data": {
      "text/plain": [
       "5.4"
      ]
     },
     "execution_count": 60,
     "metadata": {},
     "output_type": "execute_result"
    }
   ],
   "source": [
    "2+3.4"
   ]
  },
  {
   "cell_type": "code",
   "execution_count": 61,
   "id": "5f8f4b81-2031-4ad1-8649-6b23f655a25c",
   "metadata": {},
   "outputs": [
    {
     "data": {
      "text/plain": [
       "4"
      ]
     },
     "execution_count": 61,
     "metadata": {},
     "output_type": "execute_result"
    }
   ],
   "source": [
    "#explicit typecasting -- converts the data types using inbuilt function\n",
    "a='2'\n",
    "b=2\n",
    "a=int(a)\n",
    "a+b"
   ]
  },
  {
   "cell_type": "raw",
   "id": "bdebcb9f-cf7e-48bd-b217-4003ff663077",
   "metadata": {},
   "source": [
    "How do conditional statements wo$k in Python? Illustrate with examples"
   ]
  },
  {
   "cell_type": "code",
   "execution_count": 62,
   "id": "cbcf3823-4b12-41fa-848d-adb845ac749a",
   "metadata": {},
   "outputs": [
    {
     "data": {
      "text/plain": [
       "'conditional statements helps us to code decisions based on some preconditions'"
      ]
     },
     "execution_count": 62,
     "metadata": {},
     "output_type": "execute_result"
    }
   ],
   "source": [
    "'''conditional statements helps us to code decisions based on some preconditions'''"
   ]
  },
  {
   "cell_type": "code",
   "execution_count": 65,
   "id": "9ba2c8f8-a28b-434f-b98c-713e5eec9e54",
   "metadata": {},
   "outputs": [
    {
     "name": "stdout",
     "output_type": "stream",
     "text": [
      "a is smaller or equal to 100\n"
     ]
    },
    {
     "data": {
      "text/plain": [
       "' this cvode runs\\npre condituion a= 100\\nif a<=100 so we are setting condition here that if a is smaller or equal to 100 then print  the print statement'"
      ]
     },
     "execution_count": 65,
     "metadata": {},
     "output_type": "execute_result"
    }
   ],
   "source": [
    "#1 if statemnet\n",
    "a= 100\n",
    "if a<=100:\n",
    "    print('a is smaller or equal to 100')\n",
    "    \n",
    "''' this cvode runs\n",
    "pre condituion a= 100\n",
    "if a<=100 so we are setting condition here that if a is smaller or equal to 100 then print  the print statement'''"
   ]
  },
  {
   "cell_type": "code",
   "execution_count": 66,
   "id": "15594e06-bab3-4fb0-a13f-3c0407504592",
   "metadata": {},
   "outputs": [],
   "source": [
    "# if else-- in realworld only one condition is not possibile there are plentry of conditions  so if we have 2 conditions we use ifelse"
   ]
  },
  {
   "cell_type": "code",
   "execution_count": 69,
   "id": "8da86beb-9872-46d6-827e-5c3bc72bff16",
   "metadata": {},
   "outputs": [
    {
     "name": "stdout",
     "output_type": "stream",
     "text": [
      "a is >= 100\n"
     ]
    },
    {
     "data": {
      "text/plain": [
       "' here the code runs if the if block condition is false then it will come to the else block and else block code will be executed'"
      ]
     },
     "execution_count": 69,
     "metadata": {},
     "output_type": "execute_result"
    }
   ],
   "source": [
    "a=100\n",
    "if a <100:\n",
    "    print('a is < 100')\n",
    "else:\n",
    "    print('a is >= 100')\n",
    "\n",
    "\n",
    "''' here the code runs if the if block condition is false then it will come to the else block and else block code will be executed'''"
   ]
  },
  {
   "cell_type": "code",
   "execution_count": 70,
   "id": "e0c0d331-12a6-4684-8c42-7cb5791e7326",
   "metadata": {},
   "outputs": [
    {
     "name": "stdout",
     "output_type": "stream",
     "text": [
      "i will watch movies\n"
     ]
    }
   ],
   "source": [
    "#elif--- multipleconditions]\n",
    "\n",
    "weather='rainy'\n",
    "if weather=='sunny':\n",
    "    print('i will play cricket')\n",
    "elif weather =='cloudy':\n",
    "    print('depends on mood')\n",
    "else:\n",
    "    print('i will watch movies')"
   ]
  },
  {
   "cell_type": "code",
   "execution_count": 71,
   "id": "f23782cf-95cd-4ba8-a8bd-f6f34aac67f4",
   "metadata": {},
   "outputs": [
    {
     "name": "stdout",
     "output_type": "stream",
     "text": [
      "condition not satisfy\n"
     ]
    }
   ],
   "source": [
    "# nested if else\n",
    "\n",
    "x=2\n",
    "y=4\n",
    "if x>2:\n",
    "    if y>4:\n",
    "        print('two numbers are greater than 4')\n",
    "    else:\n",
    "        print('small numbers')\n",
    "else:\n",
    "    print(\"condition not satisfy\")"
   ]
  },
  {
   "cell_type": "raw",
   "id": "0c969f5e-3060-4de9-ae9c-5f890cec1b8a",
   "metadata": {},
   "source": [
    "Describe the different types of loops in Python and their use cases with examples"
   ]
  },
  {
   "cell_type": "code",
   "execution_count": 72,
   "id": "007b55dd-2303-4f9f-bdbe-ef3a54f83d38",
   "metadata": {},
   "outputs": [
    {
     "data": {
      "text/plain": [
       "'loop statements help us to execute same block of code repeatidly'"
      ]
     },
     "execution_count": 72,
     "metadata": {},
     "output_type": "execute_result"
    }
   ],
   "source": [
    "'''loop statements help us to execute same block of code repeatidly'''"
   ]
  },
  {
   "cell_type": "code",
   "execution_count": 73,
   "id": "ad817a47-065b-4436-ad0c-81171638ecc8",
   "metadata": {},
   "outputs": [
    {
     "name": "stdout",
     "output_type": "stream",
     "text": [
      "1\n",
      "2\n",
      "3\n",
      "4\n",
      "5\n",
      "6\n"
     ]
    }
   ],
   "source": [
    "#whileloop --- repeatidly execute a block of code untill condition is met\n",
    "n=7\n",
    "i=1\n",
    "while i<n:\n",
    "    print(i)\n",
    "    i=i+1"
   ]
  },
  {
   "cell_type": "code",
   "execution_count": 74,
   "id": "c8dc3c2e-0b9b-4790-ab43-f6edb554c138",
   "metadata": {},
   "outputs": [
    {
     "name": "stdout",
     "output_type": "stream",
     "text": [
      "0\n",
      "1\n",
      "2\n",
      "3\n",
      "4\n",
      "5\n",
      "6\n",
      "7\n",
      "this will be executed when the while is run successfully without any bre4ak\n"
     ]
    }
   ],
   "source": [
    "# while with else\n",
    "n=8\n",
    "i=0\n",
    "while i<n:\n",
    "    print(i)\n",
    "    i=i+1\n",
    "else:\n",
    "    print('this will be executed when the while is run successfully without any bre4ak')"
   ]
  },
  {
   "cell_type": "code",
   "execution_count": 75,
   "id": "e72e03be-3aab-49c6-8b97-21784176519b",
   "metadata": {},
   "outputs": [
    {
     "name": "stdout",
     "output_type": "stream",
     "text": [
      "1\n",
      "2\n"
     ]
    }
   ],
   "source": [
    "# break statement -- exits the loop ,the condition is met it will end the loop\n",
    "n=7\n",
    "i=1\n",
    "while i<n:\n",
    "    print(i)\n",
    "    i=i+1\n",
    "    if i==3:\n",
    "        break\n",
    "else:\n",
    "    print('this will be executed when the while is run successfully without any bre4ak')"
   ]
  },
  {
   "cell_type": "code",
   "execution_count": 77,
   "id": "f1582328-dea3-4d6b-a3d6-b8486d5eb46d",
   "metadata": {},
   "outputs": [
    {
     "name": "stdout",
     "output_type": "stream",
     "text": [
      "1\n",
      "2\n",
      "4\n",
      "5\n",
      "6\n",
      "7\n",
      "this will be executed when the while is run successfully without any bre4ak\n"
     ]
    }
   ],
   "source": [
    "# continue statement-- it skips the iuteration\n",
    "\n",
    "n= 7\n",
    "i=0\n",
    "while i<n:\n",
    "   \n",
    "    i=i+1\n",
    "    if i==3:\n",
    "        continue\n",
    "    print(i)\n",
    "else:\n",
    "    print('this will be executed when the while is run successfully without any bre4ak')"
   ]
  },
  {
   "cell_type": "code",
   "execution_count": 78,
   "id": "c06003c0-0df3-423e-883b-f4c8a797ea02",
   "metadata": {},
   "outputs": [
    {
     "name": "stdout",
     "output_type": "stream",
     "text": [
      "p\n",
      "w\n",
      "s\n",
      "k\n",
      "i\n",
      "l\n",
      "l\n",
      "s\n"
     ]
    }
   ],
   "source": [
    "# for loop -- \n",
    "for i in 'pwskills':\n",
    "    print(i)"
   ]
  },
  {
   "cell_type": "code",
   "execution_count": null,
   "id": "481dc945-940f-4bee-9349-3801f91bbea4",
   "metadata": {},
   "outputs": [],
   "source": [
    "#break statement in for loop\n",
    "l=[1,2,3,4,5,'ajay sir']\n",
    "for i in l:\n",
    "    if i=='ajay sir'\n",
    "    brea"
   ]
  }
 ],
 "metadata": {
  "kernelspec": {
   "display_name": "Python 3 (ipykernel)",
   "language": "python",
   "name": "python3"
  },
  "language_info": {
   "codemirror_mode": {
    "name": "ipython",
    "version": 3
   },
   "file_extension": ".py",
   "mimetype": "text/x-python",
   "name": "python",
   "nbconvert_exporter": "python",
   "pygments_lexer": "ipython3",
   "version": "3.10.8"
  }
 },
 "nbformat": 4,
 "nbformat_minor": 5
}
